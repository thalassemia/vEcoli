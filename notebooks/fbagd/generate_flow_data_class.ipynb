version https://git-lfs.github.com/spec/v1
oid sha256:c299ade7d67b323ee08a0f913d54c2b81a2045dd39a5a229d81f946369fa281f
size 179954
