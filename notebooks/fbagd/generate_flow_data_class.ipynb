version https://git-lfs.github.com/spec/v1
oid sha256:63dceb0d91a2973d076572e4cadd28f3291b1c1f6faa8d5684a0b322a784e473
size 120411
