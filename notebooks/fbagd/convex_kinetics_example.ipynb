version https://git-lfs.github.com/spec/v1
oid sha256:7e1183e5c83afdb1735b058562ec97be5457155452a92c8a66e04a340ed20fe3
size 191433
