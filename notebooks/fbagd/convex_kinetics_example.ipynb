version https://git-lfs.github.com/spec/v1
oid sha256:faa3385e75d5720f572f4ce77c417fb0e1a310b0945000d45d5ed6203ad78297
size 295750
