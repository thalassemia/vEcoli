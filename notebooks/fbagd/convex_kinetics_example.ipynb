version https://git-lfs.github.com/spec/v1
oid sha256:c0d65d067a98d49af88971974588ed2b06b7d94eb3a6f42cd4dbb6b32a45dec1
size 408711
