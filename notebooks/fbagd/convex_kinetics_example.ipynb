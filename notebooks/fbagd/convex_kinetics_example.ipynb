version https://git-lfs.github.com/spec/v1
oid sha256:b425d3ba727feca4e5238278c5fe63a100925b5c8762e5b491fe0055a66faaea
size 511491
