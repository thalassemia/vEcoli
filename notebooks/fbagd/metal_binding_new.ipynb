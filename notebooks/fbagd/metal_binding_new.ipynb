version https://git-lfs.github.com/spec/v1
oid sha256:1a2d393dab920eb3e279169863c650e8b62eeb54c47292fdd596a3544e00ded0
size 152082
