version https://git-lfs.github.com/spec/v1
oid sha256:3242eab52dd71bcb0ae60a4e4a014a022fc07469ca7511d7048e6afb6e89ddff
size 232376
