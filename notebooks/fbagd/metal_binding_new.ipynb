version https://git-lfs.github.com/spec/v1
oid sha256:cc2a3b8fb82af64c05dab12046330c722bf80bf1c44597306ead147b90ebe666
size 246398
