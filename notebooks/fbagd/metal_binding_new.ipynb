version https://git-lfs.github.com/spec/v1
oid sha256:18b077aa6266607f7261af19c9d25841af807eaa290cf00b1486a05131f23e12
size 44196
