version https://git-lfs.github.com/spec/v1
oid sha256:6850aac080866e55ba24cb502f00763b6a38baaf08536e6e1c6ff807d05618a7
size 10443524
