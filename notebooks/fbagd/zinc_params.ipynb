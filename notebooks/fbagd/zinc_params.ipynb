version https://git-lfs.github.com/spec/v1
oid sha256:864db7ccdc16526256a80a68fe3b5d50c8015dd2e4d2db56ab25a2d45a2bd8a6
size 104094
