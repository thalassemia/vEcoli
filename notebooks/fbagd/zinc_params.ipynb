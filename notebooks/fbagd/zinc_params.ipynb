version https://git-lfs.github.com/spec/v1
oid sha256:6d27ae080f2b660ad0e2105c4c722aa599d0fd2ce17bd6df56593d787706c716
size 119751
