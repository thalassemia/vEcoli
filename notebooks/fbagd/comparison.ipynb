version https://git-lfs.github.com/spec/v1
oid sha256:8fde439cf6cceae56813095e574c3e5622b63afb74c133a69a3d1fb3ced3cf13
size 519283
