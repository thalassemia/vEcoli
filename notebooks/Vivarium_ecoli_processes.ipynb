version https://git-lfs.github.com/spec/v1
oid sha256:faf1405c1b43b57b3d106ce4bfd708dfeafb40a28c5fbaace1c05cacfcafa96d
size 3523713
