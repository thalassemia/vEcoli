version https://git-lfs.github.com/spec/v1
oid sha256:01c2b40ed3a440d8c67d3a3f5d77c9f5a207f3a278735df27b78e5f65fada1d9
size 216068
