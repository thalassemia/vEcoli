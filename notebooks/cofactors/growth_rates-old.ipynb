version https://git-lfs.github.com/spec/v1
oid sha256:5c188bf16c3270eed1085cc03784c6b0f85d1f291623d0660151d6722807e5ed
size 11652968
