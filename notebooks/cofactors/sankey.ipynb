version https://git-lfs.github.com/spec/v1
oid sha256:d1d78b55fbf73285e9decb8ca0d6048e69f331aeb08ac9b35c1b8e7960361af2
size 12272808
