version https://git-lfs.github.com/spec/v1
oid sha256:74f5d4a4c3bf65ec5cae52991103adeabd6ba48fe9a1735678275369667da8a6
size 22979813
