version https://git-lfs.github.com/spec/v1
oid sha256:78fd112218cecccb87997a3b301ab443d01d7552941297b01a83619ed28f9293
size 305402
