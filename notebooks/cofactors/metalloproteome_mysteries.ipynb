version https://git-lfs.github.com/spec/v1
oid sha256:12241aad06f058aadb09bd2cc3090937abb33ad87b43500a078f2f21a06dc8fa
size 1339472
