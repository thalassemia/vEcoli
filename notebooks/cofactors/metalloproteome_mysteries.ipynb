version https://git-lfs.github.com/spec/v1
oid sha256:8293db3a9ec9039d22975d01595fd50f7ea09dceef16ff5cc3fbdad10cccedd8
size 1342601
