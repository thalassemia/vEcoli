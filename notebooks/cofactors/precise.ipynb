version https://git-lfs.github.com/spec/v1
oid sha256:ca116d65953ed5fe43940ac24be639cbfafc498d40cddc3d6e884712745d90e5
size 289110
