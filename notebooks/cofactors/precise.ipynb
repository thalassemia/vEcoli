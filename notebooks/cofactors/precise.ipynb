version https://git-lfs.github.com/spec/v1
oid sha256:415255e8f6bdf25430345c20e455cd0d05d1d24d5303338ff25768634bf08e6c
size 288446
