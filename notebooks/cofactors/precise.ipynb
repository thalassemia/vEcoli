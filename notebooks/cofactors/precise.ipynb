version https://git-lfs.github.com/spec/v1
oid sha256:0f1ed19570f17db8cf5862850ada1fc157bced60393c9eb6d57d6904cd475b52
size 180140
