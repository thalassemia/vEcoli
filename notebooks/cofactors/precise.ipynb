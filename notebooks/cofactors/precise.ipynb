version https://git-lfs.github.com/spec/v1
oid sha256:d4cb7be7d76d346dd301e41788cfe91a812580b78f17d5f45fd1499e294a4ebf
size 309038
