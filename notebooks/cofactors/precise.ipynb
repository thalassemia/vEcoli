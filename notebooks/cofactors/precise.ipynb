version https://git-lfs.github.com/spec/v1
oid sha256:df30b0879a20cea18bfab033004c6ff0f5471e05d973f88997cabe16af2dc3c4
size 174951
