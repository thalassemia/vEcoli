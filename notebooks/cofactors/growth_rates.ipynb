version https://git-lfs.github.com/spec/v1
oid sha256:71b430560930932b7b51d2d96f32c5f922fdfff135f9afe3d72e0fc80a8f8112
size 3186068
