version https://git-lfs.github.com/spec/v1
oid sha256:f15b342c6b738027a99131fdb03ea5361a75f477b77f5ad1b2e0a6496b0d8be0
size 3019870
