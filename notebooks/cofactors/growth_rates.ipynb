version https://git-lfs.github.com/spec/v1
oid sha256:d11238ddb22fcad2668be5a9f832dd1024ec6705ea5826c4c4d4435177a2152b
size 5065853
