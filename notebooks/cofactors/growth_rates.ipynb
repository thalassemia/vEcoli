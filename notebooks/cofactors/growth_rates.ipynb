version https://git-lfs.github.com/spec/v1
oid sha256:52199636826b3c2f8dfaa5c91b5c179cebd05a44b83e52cab0a1de2c00cafad4
size 3974032
