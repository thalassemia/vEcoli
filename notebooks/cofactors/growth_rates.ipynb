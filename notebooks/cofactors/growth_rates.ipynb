version https://git-lfs.github.com/spec/v1
oid sha256:ec76c2c2af7311be91e6d237ddef1ddc2e037c55b06d7c9034a22cdb34d80c7c
size 4256564
