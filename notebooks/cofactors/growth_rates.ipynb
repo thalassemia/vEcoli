version https://git-lfs.github.com/spec/v1
oid sha256:0ef49baa00328770687ef35f59f8bd46b6a1c517248bcaff19fa10e3ac3a8fba
size 3434636
