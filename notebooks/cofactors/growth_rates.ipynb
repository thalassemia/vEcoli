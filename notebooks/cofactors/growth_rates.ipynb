version https://git-lfs.github.com/spec/v1
oid sha256:5b9b6e3ae5b73e9e125bb4fb225453ac5bf4d93807a72128b98e630fced171bd
size 3382953
