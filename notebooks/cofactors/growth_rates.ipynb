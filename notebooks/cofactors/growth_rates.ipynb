version https://git-lfs.github.com/spec/v1
oid sha256:cd43dffa96b3ea2fe2a6ae268b6d1590bfcc386ef740bc28ea1b2a007577e81d
size 2152527
