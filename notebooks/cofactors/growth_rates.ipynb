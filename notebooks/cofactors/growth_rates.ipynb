version https://git-lfs.github.com/spec/v1
oid sha256:e767d1432eae87ede2597e9eed9fc6b07c9af670501c2a914341274cb1714285
size 4149318
