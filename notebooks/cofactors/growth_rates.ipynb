version https://git-lfs.github.com/spec/v1
oid sha256:0a264712319776d9942789f00c447f4215d7151a6e962e6a45afcc9d8dfdc496
size 4499311
