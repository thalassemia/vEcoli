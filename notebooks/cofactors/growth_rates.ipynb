version https://git-lfs.github.com/spec/v1
oid sha256:999e44ce39786ccd931351769335c03e1231de0ac844870bdadc1f0d33c99e13
size 4370776
