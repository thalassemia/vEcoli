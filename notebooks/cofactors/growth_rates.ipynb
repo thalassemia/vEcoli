version https://git-lfs.github.com/spec/v1
oid sha256:928c1a3f3646d7d7ed429d9edd524529d02652b5dde16f3f528b2c19bdc387e5
size 7750968
