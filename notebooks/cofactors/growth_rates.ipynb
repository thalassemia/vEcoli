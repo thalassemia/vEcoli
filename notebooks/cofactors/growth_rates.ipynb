version https://git-lfs.github.com/spec/v1
oid sha256:421dcfa6283c1cc2bcbfd69f8ed459bccc3cd07e42fb4b33910e61d784da38b6
size 3345378
