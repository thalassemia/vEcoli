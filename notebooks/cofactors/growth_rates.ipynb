version https://git-lfs.github.com/spec/v1
oid sha256:b6e942eb60a3171dad35010afb8adf4aa0c0d185dbccdb39c27e71d6084570c5
size 7027426
