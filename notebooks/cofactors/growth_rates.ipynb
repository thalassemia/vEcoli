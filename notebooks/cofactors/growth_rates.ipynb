version https://git-lfs.github.com/spec/v1
oid sha256:71001ef1234d5f50e4c0f46935072fac6fd75b10f1715477c4db2775090df9c9
size 4251599
