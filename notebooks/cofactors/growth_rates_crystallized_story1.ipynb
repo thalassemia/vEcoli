version https://git-lfs.github.com/spec/v1
oid sha256:d6f12fd8d8b644a855c81b6b2503a22c45945c1d05e74f007290688575ce593c
size 3614984
