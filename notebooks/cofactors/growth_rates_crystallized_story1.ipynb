version https://git-lfs.github.com/spec/v1
oid sha256:40d3fab1da0aaaf83b6b50374b03784837076d5af1b37d93138f2bdf665a4459
size 725479
