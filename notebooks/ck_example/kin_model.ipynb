version https://git-lfs.github.com/spec/v1
oid sha256:80f51be1687eb08ec7d0c7c5ac3ac34501854e5ceaab491144facc90c16179ef
size 571520
